{
 "cells": [
  {
   "cell_type": "markdown",
   "source": [
    "## __ call __"
   ],
   "metadata": {}
  },
  {
   "cell_type": "code",
   "execution_count": 1,
   "source": [
    "class CLanguage:\n",
    "    def __call__(self,name):\n",
    "        print(f'current object name is: {name}')\n",
    "\n",
    "clangs = CLanguage()\n",
    "clangs('c++')"
   ],
   "outputs": [
    {
     "output_type": "stream",
     "name": "stdout",
     "text": [
      "current object name is: c++\n"
     ]
    }
   ],
   "metadata": {}
  },
  {
   "cell_type": "markdown",
   "source": [
    "## __ new __"
   ],
   "metadata": {}
  },
  {
   "cell_type": "code",
   "execution_count": 6,
   "source": [
    "    class demoClass:\n",
    "        instances_created = 0\n",
    "        def __new__(cls,*args,**kwargs):\n",
    "            print(\"__new__():\",cls,args,kwargs)\n",
    "            instance = super().__new__(cls)\n",
    "            instance.number = cls.instances_created\n",
    "            print(f'current cls is: {cls}, {cls.instances_created}')\n",
    "            cls.instances_created += 1\n",
    "            return instance\n",
    "        def __init__(self,attribute):\n",
    "            print(\"__init__():\",self,attribute)\n",
    "            self.attribute = attribute\n",
    "    test1 = demoClass(\"abc\")\n",
    "    test2 = demoClass(\"xyz\")\n",
    "    print(test1.number,test1.instances_created)\n",
    "    print(test2.number,test2.instances_created)"
   ],
   "outputs": [
    {
     "output_type": "stream",
     "name": "stdout",
     "text": [
      "__new__(): <class '__main__.demoClass'> ('abc',) {}\n",
      "current cls is: <class '__main__.demoClass'>, 0\n",
      "__init__(): <__main__.demoClass object at 0x7f9b4432bd30> abc\n",
      "__new__(): <class '__main__.demoClass'> ('xyz',) {}\n",
      "current cls is: <class '__main__.demoClass'>, 1\n",
      "__init__(): <__main__.demoClass object at 0x7f9b4432bdd8> xyz\n",
      "0 2\n",
      "1 2\n"
     ]
    }
   ],
   "metadata": {}
  },
  {
   "cell_type": "markdown",
   "source": [
    "## __dict __\n",
    "super class attributes are not included"
   ],
   "metadata": {}
  },
  {
   "cell_type": "code",
   "execution_count": 8,
   "source": [
    "print(test1.__dict__)\n",
    "print(test2.__dict__)"
   ],
   "outputs": [
    {
     "output_type": "stream",
     "name": "stdout",
     "text": [
      "{'number': 0, 'attribute': 'abc'}\n",
      "{'number': 1, 'attribute': 'xyz'}\n"
     ]
    }
   ],
   "metadata": {}
  },
  {
   "cell_type": "markdown",
   "source": [],
   "metadata": {}
  },
  {
   "cell_type": "markdown",
   "source": [
    "## hasattr()"
   ],
   "metadata": {}
  },
  {
   "cell_type": "code",
   "execution_count": 10,
   "source": [
    "class CLanguage:\n",
    "    def __init__ (self):\n",
    "        self.name = 'hhh'\n",
    "        self.add = 'hhh'\n",
    "    def say(self):\n",
    "        print(\"python tutorial\")\n",
    "clangs = CLanguage()\n",
    "print(hasattr(clangs,\"name\"))\n",
    "print(hasattr(clangs,\"add\"))\n",
    "print(hasattr(clangs,\"say\"))\n",
    "print(hasattr(clangs,\"set\"))"
   ],
   "outputs": [
    {
     "output_type": "stream",
     "name": "stdout",
     "text": [
      "True\n",
      "True\n",
      "True\n",
      "False\n"
     ]
    }
   ],
   "metadata": {}
  },
  {
   "cell_type": "markdown",
   "source": [
    "## getattr()"
   ],
   "metadata": {}
  },
  {
   "cell_type": "code",
   "execution_count": 12,
   "source": [
    "class CLanguage:\n",
    "    def __init__ (self):\n",
    "        self.name = 'hhh'\n",
    "        self.add = 'hhh'\n",
    "    def say(self):\n",
    "        print(\"python tutorial\")\n",
    "clangs = CLanguage()\n",
    "print(getattr(clangs,\"name\"))\n",
    "print(getattr(clangs,\"add\"))\n",
    "print(getattr(clangs,\"say\"))\n",
    "print(getattr(clangs,\"set\",\"no such method\"))"
   ],
   "outputs": [
    {
     "output_type": "stream",
     "name": "stdout",
     "text": [
      "hhh\n",
      "hhh\n",
      "<bound method CLanguage.say of <__main__.CLanguage object at 0x7f9b4432b1d0>>\n",
      "no such method\n"
     ]
    }
   ],
   "metadata": {}
  },
  {
   "cell_type": "markdown",
   "source": [
    "## setattr()"
   ],
   "metadata": {}
  },
  {
   "cell_type": "markdown",
   "source": [],
   "metadata": {}
  },
  {
   "cell_type": "code",
   "execution_count": 13,
   "source": [
    "class CLanguage:\n",
    "    def __init__ (self):\n",
    "        self.name = 'hhh'\n",
    "        self.add = 'hhh'\n",
    "    def say(self):\n",
    "        print(\"python tutorial\")\n",
    "clangs = CLanguage()\n",
    "setattr(clangs,\"name\",'zy')\n",
    "setattr(clangs,\"add\",'zy')\n",
    "print(clangs.name)\n",
    "print(clangs.add)"
   ],
   "outputs": [
    {
     "output_type": "stream",
     "name": "stdout",
     "text": [
      "zy\n",
      "zy\n"
     ]
    }
   ],
   "metadata": {}
  },
  {
   "cell_type": "code",
   "execution_count": 15,
   "source": [
    "def say():\n",
    "    print(f'python tutorial')\n",
    "\n",
    "class CLanguage:\n",
    "    def __init__ (self):\n",
    "        self.name = 'hhh'\n",
    "        self.add = 'hhh'\n",
    "    def say(self):\n",
    "        print(\"python tutorial\")\n",
    "clangs = CLanguage()\n",
    "setattr(clangs,\"name\",'zy')\n",
    "setattr(clangs,\"add\",'zy')\n",
    "setattr(clangs,\"name\",say)\n",
    "clangs.name()\n",
    "print(clangs.add)"
   ],
   "outputs": [
    {
     "output_type": "stream",
     "name": "stdout",
     "text": [
      "python tutorial\n",
      "zy\n"
     ]
    }
   ],
   "metadata": {}
  },
  {
   "cell_type": "code",
   "execution_count": 16,
   "source": [
    "def say():\n",
    "    print(f'python tutorial')\n",
    "\n",
    "class CLanguage:\n",
    "    pass\n",
    "\n",
    "clangs = CLanguage()\n",
    "setattr(clangs,\"test\",'123')\n",
    "setattr(clangs,\"add\",'zy')\n",
    "setattr(clangs,\"name\",say)\n",
    "clangs.name()\n",
    "print(clangs.add)\n",
    "print(clangs.test)"
   ],
   "outputs": [
    {
     "output_type": "stream",
     "name": "stdout",
     "text": [
      "python tutorial\n",
      "zy\n",
      "123\n"
     ]
    }
   ],
   "metadata": {}
  },
  {
   "cell_type": "markdown",
   "source": [
    "## issubclass"
   ],
   "metadata": {}
  },
  {
   "cell_type": "code",
   "execution_count": 21,
   "source": [
    "# string definition\n",
    "hello = \"Hello\"\n",
    "print('whether hello is instance of str: ', isinstance(hello, str))\n",
    "print('whether hello is instance of an object: ', isinstance(hello, object))\n",
    "print('whether str is subclass of object: ', issubclass(str, object))\n",
    "print('whether hello is instance of tuple: ', isinstance(hello, tuple))\n",
    "print('whether str is subclass of tuple: ', issubclass(str, tuple))\n",
    "\n",
    "\n",
    "my_list = [2, 4]\n",
    "print('whether my list is an instance of list: ', isinstance(my_list, list))\n",
    "print('whether my list is an instance of object: ', isinstance(my_list, object))\n",
    "print('whether list is subclass of object: ', issubclass(list, object))\n",
    "print('whether my list is an instance of tuple: ', isinstance([2, 4], tuple))\n",
    "print('whether list is subclass of tuple: ',issubclass(list, tuple))"
   ],
   "outputs": [
    {
     "output_type": "stream",
     "name": "stdout",
     "text": [
      "whether hello is instance of str:  True\n",
      "whether hello is instance of an object:  True\n",
      "whether str is subclass of object:  True\n",
      "whether hello is instance of tuple:  False\n",
      "whether str is subclass of tuple:  False\n",
      "whether my list is an instance of list:  True\n",
      "whether my list is an instance of object:  True\n",
      "whether list is subclass of object:  True\n",
      "whether my list is an instance of tuple:  False\n",
      "whether list is subclass of tuple:  False\n"
     ]
    }
   ],
   "metadata": {}
  },
  {
   "cell_type": "code",
   "execution_count": 22,
   "source": [
    "print('whether data is an instance of list or tuple: ',isinstance((20,'fkit'),(list,tuple)))"
   ],
   "outputs": [
    {
     "output_type": "stream",
     "name": "stdout",
     "text": [
      "whether data is an instance of list or tuple:  True\n"
     ]
    }
   ],
   "metadata": {}
  },
  {
   "cell_type": "markdown",
   "source": [
    "## __ bases __ __ subclasses __ ()"
   ],
   "metadata": {}
  },
  {
   "cell_type": "code",
   "execution_count": 24,
   "source": [
    "class A:\n",
    "    pass\n",
    "class B:\n",
    "    pass\n",
    "class C(A, B):\n",
    "    pass\n",
    "print('base class of A:', A.__bases__)\n",
    "print('base class of B:', B.__bases__)\n",
    "print('base class of C:', C.__bases__)\n",
    "print('subclasses of A:', A.__subclasses__())\n",
    "print('subclasses of B:', B.__subclasses__())"
   ],
   "outputs": [
    {
     "output_type": "stream",
     "name": "stdout",
     "text": [
      "base class of A: (<class 'object'>,)\n",
      "base class of B: (<class 'object'>,)\n",
      "base class of C: (<class '__main__.A'>, <class '__main__.B'>)\n",
      "subclasses of A: [<class '__main__.C'>]\n",
      "subclasses of B: [<class '__main__.C'>]\n"
     ]
    }
   ],
   "metadata": {}
  },
  {
   "cell_type": "markdown",
   "source": [
    "## Iterator and Generator"
   ],
   "metadata": {}
  },
  {
   "cell_type": "code",
   "execution_count": 26,
   "source": [
    "class listDemo:\n",
    "    def __init__(self):\n",
    "        self.__date=[]\n",
    "        self.__step = 0\n",
    "    def __next__(self):\n",
    "        if self.__step <= 0:\n",
    "            raise StopIteration\n",
    "        self.__step -= 1\n",
    "        # return previous element at each step\n",
    "        return self.__date[self.__step]\n",
    "    def __iter__(self):\n",
    "        # return iterator itself\n",
    "        return self\n",
    "    # add element\n",
    "    def __setitem__(self,key,value):\n",
    "        self.__date.insert(key,value)\n",
    "        self.__step += 1\n",
    "mylist = listDemo()\n",
    "mylist[0]=1\n",
    "mylist[1]=2\n",
    "mylist[2]=3\n",
    "for i in mylist:\n",
    "    print (i)"
   ],
   "outputs": [
    {
     "output_type": "stream",
     "name": "stdout",
     "text": [
      "3\n",
      "2\n",
      "1\n"
     ]
    }
   ],
   "metadata": {}
  },
  {
   "cell_type": "code",
   "execution_count": 36,
   "source": [
    "# list to iterator\n",
    "myIter = iter([1,2,3])\n",
    "# iter next element\n",
    "# print(myIter.__next__())\n",
    "for i in range(len([1,2,3,4])):\n",
    "    print(myIter.__next__())"
   ],
   "outputs": [
    {
     "output_type": "stream",
     "name": "stdout",
     "text": [
      "1\n",
      "2\n",
      "3\n"
     ]
    },
    {
     "output_type": "error",
     "ename": "StopIteration",
     "evalue": "",
     "traceback": [
      "\u001b[0;31m---------------------------------------------------------------------------\u001b[0m",
      "\u001b[0;31mStopIteration\u001b[0m                             Traceback (most recent call last)",
      "\u001b[0;32m<ipython-input-36-d27becae4a02>\u001b[0m in \u001b[0;36m<module>\u001b[0;34m\u001b[0m\n\u001b[1;32m      4\u001b[0m \u001b[0;31m# print(myIter.__next__())\u001b[0m\u001b[0;34m\u001b[0m\u001b[0;34m\u001b[0m\u001b[0;34m\u001b[0m\u001b[0m\n\u001b[1;32m      5\u001b[0m \u001b[0;32mfor\u001b[0m \u001b[0mi\u001b[0m \u001b[0;32min\u001b[0m \u001b[0mrange\u001b[0m\u001b[0;34m(\u001b[0m\u001b[0mlen\u001b[0m\u001b[0;34m(\u001b[0m\u001b[0;34m[\u001b[0m\u001b[0;36m1\u001b[0m\u001b[0;34m,\u001b[0m\u001b[0;36m2\u001b[0m\u001b[0;34m,\u001b[0m\u001b[0;36m3\u001b[0m\u001b[0;34m,\u001b[0m\u001b[0;36m4\u001b[0m\u001b[0;34m]\u001b[0m\u001b[0;34m)\u001b[0m\u001b[0;34m)\u001b[0m\u001b[0;34m:\u001b[0m\u001b[0;34m\u001b[0m\u001b[0;34m\u001b[0m\u001b[0m\n\u001b[0;32m----> 6\u001b[0;31m     \u001b[0mprint\u001b[0m\u001b[0;34m(\u001b[0m\u001b[0mmyIter\u001b[0m\u001b[0;34m.\u001b[0m\u001b[0m__next__\u001b[0m\u001b[0;34m(\u001b[0m\u001b[0;34m)\u001b[0m\u001b[0;34m)\u001b[0m\u001b[0;34m\u001b[0m\u001b[0;34m\u001b[0m\u001b[0m\n\u001b[0m",
      "\u001b[0;31mStopIteration\u001b[0m: "
     ]
    }
   ],
   "metadata": {}
  },
  {
   "cell_type": "code",
   "execution_count": 43,
   "source": [
    "class listDemo:\n",
    "    def __init__(self):\n",
    "        self.__date=[]\n",
    "        self.__step = 0\n",
    "\n",
    "    def __setitem__(self,key,value):\n",
    "        self.__date.insert(key,value)\n",
    "        self.__step += 1\n",
    "    \n",
    "    def __call__(self):\n",
    "        self.__step-=1\n",
    "        return self.__date[self.__step]\n",
    "\n",
    "mylist = listDemo()\n",
    "mylist[0]=2\n",
    "mylist[1]=3\n",
    "mylist[2]=6\n",
    "mylist[3]=8\n",
    "mylist[4]=10\n",
    "#将 mylist 变为迭代器\n",
    "# b = iter(mylist, )\n",
    "a = iter(mylist,3)\n",
    "print(a.__next__())\n",
    "print(a.__next__())\n",
    "print(a.__next__())\n",
    "print(a.__next__())\n",
    "print(a.__next__())"
   ],
   "outputs": [
    {
     "output_type": "stream",
     "name": "stdout",
     "text": [
      "10\n",
      "8\n",
      "6\n"
     ]
    },
    {
     "output_type": "error",
     "ename": "StopIteration",
     "evalue": "",
     "traceback": [
      "\u001b[0;31m---------------------------------------------------------------------------\u001b[0m",
      "\u001b[0;31mStopIteration\u001b[0m                             Traceback (most recent call last)",
      "\u001b[0;32m<ipython-input-43-8a4b3b9d8cc8>\u001b[0m in \u001b[0;36m<module>\u001b[0;34m\u001b[0m\n\u001b[1;32m     24\u001b[0m \u001b[0mprint\u001b[0m\u001b[0;34m(\u001b[0m\u001b[0ma\u001b[0m\u001b[0;34m.\u001b[0m\u001b[0m__next__\u001b[0m\u001b[0;34m(\u001b[0m\u001b[0;34m)\u001b[0m\u001b[0;34m)\u001b[0m\u001b[0;34m\u001b[0m\u001b[0;34m\u001b[0m\u001b[0m\n\u001b[1;32m     25\u001b[0m \u001b[0mprint\u001b[0m\u001b[0;34m(\u001b[0m\u001b[0ma\u001b[0m\u001b[0;34m.\u001b[0m\u001b[0m__next__\u001b[0m\u001b[0;34m(\u001b[0m\u001b[0;34m)\u001b[0m\u001b[0;34m)\u001b[0m\u001b[0;34m\u001b[0m\u001b[0;34m\u001b[0m\u001b[0m\n\u001b[0;32m---> 26\u001b[0;31m \u001b[0mprint\u001b[0m\u001b[0;34m(\u001b[0m\u001b[0ma\u001b[0m\u001b[0;34m.\u001b[0m\u001b[0m__next__\u001b[0m\u001b[0;34m(\u001b[0m\u001b[0;34m)\u001b[0m\u001b[0;34m)\u001b[0m\u001b[0;34m\u001b[0m\u001b[0;34m\u001b[0m\u001b[0m\n\u001b[0m\u001b[1;32m     27\u001b[0m \u001b[0mprint\u001b[0m\u001b[0;34m(\u001b[0m\u001b[0ma\u001b[0m\u001b[0;34m.\u001b[0m\u001b[0m__next__\u001b[0m\u001b[0;34m(\u001b[0m\u001b[0;34m)\u001b[0m\u001b[0;34m)\u001b[0m\u001b[0;34m\u001b[0m\u001b[0;34m\u001b[0m\u001b[0m\n",
      "\u001b[0;31mStopIteration\u001b[0m: "
     ]
    }
   ],
   "metadata": {}
  },
  {
   "cell_type": "code",
   "execution_count": 39,
   "source": [
    "l = [1,2,3,4,5]\n",
    "a = iter(l,3)\n",
    "print(next(a))\n",
    "print(next(a))\n",
    "print(next(a))\n",
    "print(next(a))\n",
    "print(next(a))"
   ],
   "outputs": [
    {
     "output_type": "error",
     "ename": "TypeError",
     "evalue": "iter(v, w): v must be callable",
     "traceback": [
      "\u001b[0;31m---------------------------------------------------------------------------\u001b[0m",
      "\u001b[0;31mTypeError\u001b[0m                                 Traceback (most recent call last)",
      "\u001b[0;32m<ipython-input-39-2b29f3a34c25>\u001b[0m in \u001b[0;36m<module>\u001b[0;34m\u001b[0m\n\u001b[1;32m      1\u001b[0m \u001b[0ml\u001b[0m \u001b[0;34m=\u001b[0m \u001b[0;34m[\u001b[0m\u001b[0;36m1\u001b[0m\u001b[0;34m,\u001b[0m\u001b[0;36m2\u001b[0m\u001b[0;34m,\u001b[0m\u001b[0;36m3\u001b[0m\u001b[0;34m,\u001b[0m\u001b[0;36m4\u001b[0m\u001b[0;34m,\u001b[0m\u001b[0;36m5\u001b[0m\u001b[0;34m]\u001b[0m\u001b[0;34m\u001b[0m\u001b[0;34m\u001b[0m\u001b[0m\n\u001b[0;32m----> 2\u001b[0;31m \u001b[0ma\u001b[0m \u001b[0;34m=\u001b[0m \u001b[0miter\u001b[0m\u001b[0;34m(\u001b[0m\u001b[0ml\u001b[0m\u001b[0;34m,\u001b[0m\u001b[0;36m3\u001b[0m\u001b[0;34m)\u001b[0m\u001b[0;34m\u001b[0m\u001b[0;34m\u001b[0m\u001b[0m\n\u001b[0m\u001b[1;32m      3\u001b[0m \u001b[0mprint\u001b[0m\u001b[0;34m(\u001b[0m\u001b[0mnext\u001b[0m\u001b[0;34m(\u001b[0m\u001b[0ma\u001b[0m\u001b[0;34m)\u001b[0m\u001b[0;34m)\u001b[0m\u001b[0;34m\u001b[0m\u001b[0;34m\u001b[0m\u001b[0m\n\u001b[1;32m      4\u001b[0m \u001b[0mprint\u001b[0m\u001b[0;34m(\u001b[0m\u001b[0mnext\u001b[0m\u001b[0;34m(\u001b[0m\u001b[0ma\u001b[0m\u001b[0;34m)\u001b[0m\u001b[0;34m)\u001b[0m\u001b[0;34m\u001b[0m\u001b[0;34m\u001b[0m\u001b[0m\n\u001b[1;32m      5\u001b[0m \u001b[0mprint\u001b[0m\u001b[0;34m(\u001b[0m\u001b[0mnext\u001b[0m\u001b[0;34m(\u001b[0m\u001b[0ma\u001b[0m\u001b[0;34m)\u001b[0m\u001b[0;34m)\u001b[0m\u001b[0;34m\u001b[0m\u001b[0;34m\u001b[0m\u001b[0m\n",
      "\u001b[0;31mTypeError\u001b[0m: iter(v, w): v must be callable"
     ]
    }
   ],
   "metadata": {}
  },
  {
   "cell_type": "code",
   "execution_count": 40,
   "source": [
    "help(iter)"
   ],
   "outputs": [
    {
     "output_type": "stream",
     "name": "stdout",
     "text": [
      "Help on built-in function iter in module builtins:\n",
      "\n",
      "iter(...)\n",
      "    iter(iterable) -> iterator\n",
      "    iter(callable, sentinel) -> iterator\n",
      "    \n",
      "    Get an iterator from an object.  In the first form, the argument must\n",
      "    supply its own iterator, or be a sequence.\n",
      "    In the second form, the callable is called until it returns the sentinel.\n",
      "\n"
     ]
    }
   ],
   "metadata": {}
  },
  {
   "cell_type": "code",
   "execution_count": 49,
   "source": [
    "def intNum():\n",
    "    for i in range(5):\n",
    "        yield i*2\n",
    "num = intNum()"
   ],
   "outputs": [],
   "metadata": {}
  },
  {
   "cell_type": "code",
   "execution_count": 47,
   "source": [
    "for i in num:\n",
    "    print(i)"
   ],
   "outputs": [
    {
     "output_type": "stream",
     "name": "stdout",
     "text": [
      "0\n",
      "2\n",
      "4\n",
      "6\n",
      "8\n"
     ]
    }
   ],
   "metadata": {}
  },
  {
   "cell_type": "code",
   "execution_count": 50,
   "source": [
    "next(num)"
   ],
   "outputs": [
    {
     "output_type": "execute_result",
     "data": {
      "text/plain": [
       "0"
      ]
     },
     "metadata": {},
     "execution_count": 50
    }
   ],
   "metadata": {}
  },
  {
   "cell_type": "code",
   "execution_count": 51,
   "source": [
    "num.__next__()"
   ],
   "outputs": [
    {
     "output_type": "execute_result",
     "data": {
      "text/plain": [
       "2"
      ]
     },
     "metadata": {},
     "execution_count": 51
    }
   ],
   "metadata": {}
  },
  {
   "cell_type": "code",
   "execution_count": 52,
   "source": [
    "print(list(num))"
   ],
   "outputs": [
    {
     "output_type": "stream",
     "name": "stdout",
     "text": [
      "[4, 6, 8]\n"
     ]
    }
   ],
   "metadata": {}
  },
  {
   "cell_type": "code",
   "execution_count": 53,
   "source": [
    "print(tuple(num))"
   ],
   "outputs": [
    {
     "output_type": "stream",
     "name": "stdout",
     "text": [
      "()\n"
     ]
    }
   ],
   "metadata": {}
  },
  {
   "cell_type": "code",
   "execution_count": 54,
   "source": [
    "num = intNum()\n",
    "print(list(num))"
   ],
   "outputs": [
    {
     "output_type": "stream",
     "name": "stdout",
     "text": [
      "[0, 2, 4, 6, 8]\n"
     ]
    }
   ],
   "metadata": {}
  },
  {
   "cell_type": "code",
   "execution_count": null,
   "source": [],
   "outputs": [],
   "metadata": {}
  }
 ],
 "metadata": {
  "orig_nbformat": 4,
  "language_info": {
   "name": "python",
   "version": "3.6.13",
   "mimetype": "text/x-python",
   "codemirror_mode": {
    "name": "ipython",
    "version": 3
   },
   "pygments_lexer": "ipython3",
   "nbconvert_exporter": "python",
   "file_extension": ".py"
  },
  "kernelspec": {
   "name": "python3",
   "display_name": "Python 3.6.13 64-bit ('env': conda)"
  },
  "interpreter": {
   "hash": "f38d13940331e776a67d851eebbae5e1e050c7a7e8d18dd9188ae084b14e479c"
  }
 },
 "nbformat": 4,
 "nbformat_minor": 2
}